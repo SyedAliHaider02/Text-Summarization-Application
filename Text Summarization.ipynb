{
 "cells": [
  {
   "cell_type": "code",
   "execution_count": 1,
   "id": "ce5208e2-88b0-4794-b75e-0e1f6ff74799",
   "metadata": {},
   "outputs": [
    {
     "name": "stdout",
     "output_type": "stream",
     "text": [
      "Requirement already satisfied: spacy in e:\\anaconda\\lib\\site-packages (3.7.4)\n",
      "Requirement already satisfied: spacy-legacy<3.1.0,>=3.0.11 in e:\\anaconda\\lib\\site-packages (from spacy) (3.0.12)\n",
      "Requirement already satisfied: spacy-loggers<2.0.0,>=1.0.0 in e:\\anaconda\\lib\\site-packages (from spacy) (1.0.5)\n",
      "Requirement already satisfied: murmurhash<1.1.0,>=0.28.0 in e:\\anaconda\\lib\\site-packages (from spacy) (1.0.10)\n",
      "Requirement already satisfied: cymem<2.1.0,>=2.0.2 in e:\\anaconda\\lib\\site-packages (from spacy) (2.0.8)\n",
      "Requirement already satisfied: preshed<3.1.0,>=3.0.2 in e:\\anaconda\\lib\\site-packages (from spacy) (3.0.9)\n",
      "Requirement already satisfied: thinc<8.3.0,>=8.2.2 in e:\\anaconda\\lib\\site-packages (from spacy) (8.2.3)\n",
      "Requirement already satisfied: wasabi<1.2.0,>=0.9.1 in e:\\anaconda\\lib\\site-packages (from spacy) (1.1.2)\n",
      "Requirement already satisfied: srsly<3.0.0,>=2.4.3 in e:\\anaconda\\lib\\site-packages (from spacy) (2.4.8)\n",
      "Requirement already satisfied: catalogue<2.1.0,>=2.0.6 in e:\\anaconda\\lib\\site-packages (from spacy) (2.0.10)\n",
      "Requirement already satisfied: weasel<0.4.0,>=0.1.0 in e:\\anaconda\\lib\\site-packages (from spacy) (0.3.4)\n",
      "Requirement already satisfied: typer<0.10.0,>=0.3.0 in e:\\anaconda\\lib\\site-packages (from spacy) (0.9.4)\n",
      "Requirement already satisfied: smart-open<7.0.0,>=5.2.1 in e:\\anaconda\\lib\\site-packages (from spacy) (5.2.1)\n",
      "Requirement already satisfied: tqdm<5.0.0,>=4.38.0 in e:\\anaconda\\lib\\site-packages (from spacy) (4.65.0)\n",
      "Requirement already satisfied: requests<3.0.0,>=2.13.0 in e:\\anaconda\\lib\\site-packages (from spacy) (2.31.0)\n",
      "Requirement already satisfied: pydantic!=1.8,!=1.8.1,<3.0.0,>=1.7.4 in e:\\anaconda\\lib\\site-packages (from spacy) (1.10.12)\n",
      "Requirement already satisfied: jinja2 in e:\\anaconda\\lib\\site-packages (from spacy) (3.1.3)\n",
      "Requirement already satisfied: setuptools in e:\\anaconda\\lib\\site-packages (from spacy) (68.2.2)\n",
      "Requirement already satisfied: packaging>=20.0 in e:\\anaconda\\lib\\site-packages (from spacy) (23.2)\n",
      "Requirement already satisfied: langcodes<4.0.0,>=3.2.0 in e:\\anaconda\\lib\\site-packages (from spacy) (3.4.0)\n",
      "Requirement already satisfied: numpy>=1.19.0 in e:\\anaconda\\lib\\site-packages (from spacy) (1.26.4)\n",
      "Requirement already satisfied: language-data>=1.2 in e:\\anaconda\\lib\\site-packages (from langcodes<4.0.0,>=3.2.0->spacy) (1.2.0)\n",
      "Requirement already satisfied: typing-extensions>=4.2.0 in e:\\anaconda\\lib\\site-packages (from pydantic!=1.8,!=1.8.1,<3.0.0,>=1.7.4->spacy) (4.9.0)\n",
      "Requirement already satisfied: charset-normalizer<4,>=2 in e:\\anaconda\\lib\\site-packages (from requests<3.0.0,>=2.13.0->spacy) (2.0.4)\n",
      "Requirement already satisfied: idna<4,>=2.5 in e:\\anaconda\\lib\\site-packages (from requests<3.0.0,>=2.13.0->spacy) (3.4)\n",
      "Requirement already satisfied: urllib3<3,>=1.21.1 in e:\\anaconda\\lib\\site-packages (from requests<3.0.0,>=2.13.0->spacy) (2.0.7)\n",
      "Requirement already satisfied: certifi>=2017.4.17 in e:\\anaconda\\lib\\site-packages (from requests<3.0.0,>=2.13.0->spacy) (2024.2.2)\n",
      "Requirement already satisfied: blis<0.8.0,>=0.7.8 in e:\\anaconda\\lib\\site-packages (from thinc<8.3.0,>=8.2.2->spacy) (0.7.11)\n",
      "Requirement already satisfied: confection<1.0.0,>=0.0.1 in e:\\anaconda\\lib\\site-packages (from thinc<8.3.0,>=8.2.2->spacy) (0.1.4)\n",
      "Requirement already satisfied: colorama in e:\\anaconda\\lib\\site-packages (from tqdm<5.0.0,>=4.38.0->spacy) (0.4.6)\n",
      "Requirement already satisfied: click<9.0.0,>=7.1.1 in e:\\anaconda\\lib\\site-packages (from typer<0.10.0,>=0.3.0->spacy) (8.1.7)\n",
      "Requirement already satisfied: cloudpathlib<0.17.0,>=0.7.0 in e:\\anaconda\\lib\\site-packages (from weasel<0.4.0,>=0.1.0->spacy) (0.16.0)\n",
      "Requirement already satisfied: MarkupSafe>=2.0 in e:\\anaconda\\lib\\site-packages (from jinja2->spacy) (2.1.3)\n",
      "Requirement already satisfied: marisa-trie>=0.7.7 in e:\\anaconda\\lib\\site-packages (from language-data>=1.2->langcodes<4.0.0,>=3.2.0->spacy) (1.1.1)\n"
     ]
    }
   ],
   "source": [
    "!pip install -U spacy\n"
   ]
  },
  {
   "cell_type": "code",
   "execution_count": 2,
   "id": "113762de-4872-4bf7-a8e3-2d7d6ffea647",
   "metadata": {},
   "outputs": [],
   "source": [
    "import spacy"
   ]
  },
  {
   "cell_type": "code",
   "execution_count": 3,
   "id": "549130eb-508a-41a1-9cb5-63c3681ed887",
   "metadata": {},
   "outputs": [
    {
     "name": "stdout",
     "output_type": "stream",
     "text": [
      "Collecting en-core-web-sm==3.7.1\n",
      "  Downloading https://github.com/explosion/spacy-models/releases/download/en_core_web_sm-3.7.1/en_core_web_sm-3.7.1-py3-none-any.whl (12.8 MB)\n",
      "     ---------------------------------------- 0.0/12.8 MB ? eta -:--:--\n",
      "     --------------------------------------- 0.0/12.8 MB 435.7 kB/s eta 0:00:30\n",
      "      --------------------------------------- 0.2/12.8 MB 2.0 MB/s eta 0:00:07\n",
      "     - -------------------------------------- 0.5/12.8 MB 3.6 MB/s eta 0:00:04\n",
      "     -- ------------------------------------- 0.8/12.8 MB 4.4 MB/s eta 0:00:03\n",
      "     --- ------------------------------------ 1.2/12.8 MB 5.3 MB/s eta 0:00:03\n",
      "     ----- ---------------------------------- 1.6/12.8 MB 5.5 MB/s eta 0:00:03\n",
      "     ------ --------------------------------- 2.0/12.8 MB 6.2 MB/s eta 0:00:02\n",
      "     ------- -------------------------------- 2.4/12.8 MB 6.2 MB/s eta 0:00:02\n",
      "     -------- ------------------------------- 2.8/12.8 MB 6.3 MB/s eta 0:00:02\n",
      "     --------- ------------------------------ 3.2/12.8 MB 6.5 MB/s eta 0:00:02\n",
      "     ----------- ---------------------------- 3.6/12.8 MB 6.7 MB/s eta 0:00:02\n",
      "     ------------ --------------------------- 4.0/12.8 MB 6.8 MB/s eta 0:00:02\n",
      "     ------------ --------------------------- 4.1/12.8 MB 6.5 MB/s eta 0:00:02\n",
      "     ------------- -------------------------- 4.4/12.8 MB 6.5 MB/s eta 0:00:02\n",
      "     -------------- ------------------------- 4.7/12.8 MB 6.5 MB/s eta 0:00:02\n",
      "     --------------- ------------------------ 5.0/12.8 MB 6.7 MB/s eta 0:00:02\n",
      "     ---------------- ----------------------- 5.4/12.8 MB 6.6 MB/s eta 0:00:02\n",
      "     ----------------- ---------------------- 5.7/12.8 MB 6.7 MB/s eta 0:00:02\n",
      "     ------------------ --------------------- 6.1/12.8 MB 6.7 MB/s eta 0:00:02\n",
      "     -------------------- ------------------- 6.5/12.8 MB 6.8 MB/s eta 0:00:01\n",
      "     --------------------- ------------------ 6.8/12.8 MB 6.8 MB/s eta 0:00:01\n",
      "     ---------------------- ----------------- 7.2/12.8 MB 6.8 MB/s eta 0:00:01\n",
      "     ----------------------- ---------------- 7.6/12.8 MB 7.0 MB/s eta 0:00:01\n",
      "     ------------------------ --------------- 8.0/12.8 MB 6.9 MB/s eta 0:00:01\n",
      "     ------------------------- -------------- 8.3/12.8 MB 7.0 MB/s eta 0:00:01\n",
      "     --------------------------- ------------ 8.7/12.8 MB 7.0 MB/s eta 0:00:01\n",
      "     --------------------------- ------------ 8.9/12.8 MB 7.0 MB/s eta 0:00:01\n",
      "     ----------------------------- ---------- 9.3/12.8 MB 6.9 MB/s eta 0:00:01\n",
      "     ------------------------------ --------- 9.7/12.8 MB 7.0 MB/s eta 0:00:01\n",
      "     ------------------------------- -------- 10.0/12.8 MB 7.0 MB/s eta 0:00:01\n",
      "     -------------------------------- ------- 10.5/12.8 MB 7.4 MB/s eta 0:00:01\n",
      "     --------------------------------- ------ 10.8/12.8 MB 7.4 MB/s eta 0:00:01\n",
      "     ---------------------------------- ----- 11.1/12.8 MB 7.5 MB/s eta 0:00:01\n",
      "     ----------------------------------- ---- 11.4/12.8 MB 7.4 MB/s eta 0:00:01\n",
      "     ------------------------------------ --- 11.7/12.8 MB 7.4 MB/s eta 0:00:01\n",
      "     ------------------------------------- -- 12.1/12.8 MB 7.3 MB/s eta 0:00:01\n",
      "     -------------------------------------- - 12.4/12.8 MB 7.3 MB/s eta 0:00:01\n",
      "     ---------------------------------------  12.7/12.8 MB 7.2 MB/s eta 0:00:01\n",
      "     ---------------------------------------  12.8/12.8 MB 7.2 MB/s eta 0:00:01\n",
      "     ---------------------------------------- 12.8/12.8 MB 6.8 MB/s eta 0:00:00\n",
      "Requirement already satisfied: spacy<3.8.0,>=3.7.2 in e:\\anaconda\\lib\\site-packages (from en-core-web-sm==3.7.1) (3.7.4)\n",
      "Requirement already satisfied: spacy-legacy<3.1.0,>=3.0.11 in e:\\anaconda\\lib\\site-packages (from spacy<3.8.0,>=3.7.2->en-core-web-sm==3.7.1) (3.0.12)\n",
      "Requirement already satisfied: spacy-loggers<2.0.0,>=1.0.0 in e:\\anaconda\\lib\\site-packages (from spacy<3.8.0,>=3.7.2->en-core-web-sm==3.7.1) (1.0.5)\n",
      "Requirement already satisfied: murmurhash<1.1.0,>=0.28.0 in e:\\anaconda\\lib\\site-packages (from spacy<3.8.0,>=3.7.2->en-core-web-sm==3.7.1) (1.0.10)\n",
      "Requirement already satisfied: cymem<2.1.0,>=2.0.2 in e:\\anaconda\\lib\\site-packages (from spacy<3.8.0,>=3.7.2->en-core-web-sm==3.7.1) (2.0.8)\n",
      "Requirement already satisfied: preshed<3.1.0,>=3.0.2 in e:\\anaconda\\lib\\site-packages (from spacy<3.8.0,>=3.7.2->en-core-web-sm==3.7.1) (3.0.9)\n",
      "Requirement already satisfied: thinc<8.3.0,>=8.2.2 in e:\\anaconda\\lib\\site-packages (from spacy<3.8.0,>=3.7.2->en-core-web-sm==3.7.1) (8.2.3)\n",
      "Requirement already satisfied: wasabi<1.2.0,>=0.9.1 in e:\\anaconda\\lib\\site-packages (from spacy<3.8.0,>=3.7.2->en-core-web-sm==3.7.1) (1.1.2)\n",
      "Requirement already satisfied: srsly<3.0.0,>=2.4.3 in e:\\anaconda\\lib\\site-packages (from spacy<3.8.0,>=3.7.2->en-core-web-sm==3.7.1) (2.4.8)\n",
      "Requirement already satisfied: catalogue<2.1.0,>=2.0.6 in e:\\anaconda\\lib\\site-packages (from spacy<3.8.0,>=3.7.2->en-core-web-sm==3.7.1) (2.0.10)\n",
      "Requirement already satisfied: weasel<0.4.0,>=0.1.0 in e:\\anaconda\\lib\\site-packages (from spacy<3.8.0,>=3.7.2->en-core-web-sm==3.7.1) (0.3.4)\n",
      "Requirement already satisfied: typer<0.10.0,>=0.3.0 in e:\\anaconda\\lib\\site-packages (from spacy<3.8.0,>=3.7.2->en-core-web-sm==3.7.1) (0.9.4)\n",
      "Requirement already satisfied: smart-open<7.0.0,>=5.2.1 in e:\\anaconda\\lib\\site-packages (from spacy<3.8.0,>=3.7.2->en-core-web-sm==3.7.1) (5.2.1)\n",
      "Requirement already satisfied: tqdm<5.0.0,>=4.38.0 in e:\\anaconda\\lib\\site-packages (from spacy<3.8.0,>=3.7.2->en-core-web-sm==3.7.1) (4.65.0)\n",
      "Requirement already satisfied: requests<3.0.0,>=2.13.0 in e:\\anaconda\\lib\\site-packages (from spacy<3.8.0,>=3.7.2->en-core-web-sm==3.7.1) (2.31.0)\n",
      "Requirement already satisfied: pydantic!=1.8,!=1.8.1,<3.0.0,>=1.7.4 in e:\\anaconda\\lib\\site-packages (from spacy<3.8.0,>=3.7.2->en-core-web-sm==3.7.1) (1.10.12)\n",
      "Requirement already satisfied: jinja2 in e:\\anaconda\\lib\\site-packages (from spacy<3.8.0,>=3.7.2->en-core-web-sm==3.7.1) (3.1.3)\n",
      "Requirement already satisfied: setuptools in e:\\anaconda\\lib\\site-packages (from spacy<3.8.0,>=3.7.2->en-core-web-sm==3.7.1) (68.2.2)\n",
      "Requirement already satisfied: packaging>=20.0 in e:\\anaconda\\lib\\site-packages (from spacy<3.8.0,>=3.7.2->en-core-web-sm==3.7.1) (23.2)\n",
      "Requirement already satisfied: langcodes<4.0.0,>=3.2.0 in e:\\anaconda\\lib\\site-packages (from spacy<3.8.0,>=3.7.2->en-core-web-sm==3.7.1) (3.4.0)\n",
      "Requirement already satisfied: numpy>=1.19.0 in e:\\anaconda\\lib\\site-packages (from spacy<3.8.0,>=3.7.2->en-core-web-sm==3.7.1) (1.26.4)\n",
      "Requirement already satisfied: language-data>=1.2 in e:\\anaconda\\lib\\site-packages (from langcodes<4.0.0,>=3.2.0->spacy<3.8.0,>=3.7.2->en-core-web-sm==3.7.1) (1.2.0)\n",
      "Requirement already satisfied: typing-extensions>=4.2.0 in e:\\anaconda\\lib\\site-packages (from pydantic!=1.8,!=1.8.1,<3.0.0,>=1.7.4->spacy<3.8.0,>=3.7.2->en-core-web-sm==3.7.1) (4.9.0)\n",
      "Requirement already satisfied: charset-normalizer<4,>=2 in e:\\anaconda\\lib\\site-packages (from requests<3.0.0,>=2.13.0->spacy<3.8.0,>=3.7.2->en-core-web-sm==3.7.1) (2.0.4)\n",
      "Requirement already satisfied: idna<4,>=2.5 in e:\\anaconda\\lib\\site-packages (from requests<3.0.0,>=2.13.0->spacy<3.8.0,>=3.7.2->en-core-web-sm==3.7.1) (3.4)\n",
      "Requirement already satisfied: urllib3<3,>=1.21.1 in e:\\anaconda\\lib\\site-packages (from requests<3.0.0,>=2.13.0->spacy<3.8.0,>=3.7.2->en-core-web-sm==3.7.1) (2.0.7)\n",
      "Requirement already satisfied: certifi>=2017.4.17 in e:\\anaconda\\lib\\site-packages (from requests<3.0.0,>=2.13.0->spacy<3.8.0,>=3.7.2->en-core-web-sm==3.7.1) (2024.2.2)\n",
      "Requirement already satisfied: blis<0.8.0,>=0.7.8 in e:\\anaconda\\lib\\site-packages (from thinc<8.3.0,>=8.2.2->spacy<3.8.0,>=3.7.2->en-core-web-sm==3.7.1) (0.7.11)\n",
      "Requirement already satisfied: confection<1.0.0,>=0.0.1 in e:\\anaconda\\lib\\site-packages (from thinc<8.3.0,>=8.2.2->spacy<3.8.0,>=3.7.2->en-core-web-sm==3.7.1) (0.1.4)\n",
      "Requirement already satisfied: colorama in e:\\anaconda\\lib\\site-packages (from tqdm<5.0.0,>=4.38.0->spacy<3.8.0,>=3.7.2->en-core-web-sm==3.7.1) (0.4.6)\n",
      "Requirement already satisfied: click<9.0.0,>=7.1.1 in e:\\anaconda\\lib\\site-packages (from typer<0.10.0,>=0.3.0->spacy<3.8.0,>=3.7.2->en-core-web-sm==3.7.1) (8.1.7)\n",
      "Requirement already satisfied: cloudpathlib<0.17.0,>=0.7.0 in e:\\anaconda\\lib\\site-packages (from weasel<0.4.0,>=0.1.0->spacy<3.8.0,>=3.7.2->en-core-web-sm==3.7.1) (0.16.0)\n",
      "Requirement already satisfied: MarkupSafe>=2.0 in e:\\anaconda\\lib\\site-packages (from jinja2->spacy<3.8.0,>=3.7.2->en-core-web-sm==3.7.1) (2.1.3)\n",
      "Requirement already satisfied: marisa-trie>=0.7.7 in e:\\anaconda\\lib\\site-packages (from language-data>=1.2->langcodes<4.0.0,>=3.2.0->spacy<3.8.0,>=3.7.2->en-core-web-sm==3.7.1) (1.1.1)\n",
      "\u001b[38;5;2m[+] Download and installation successful\u001b[0m\n",
      "You can now load the package via spacy.load('en_core_web_sm')\n"
     ]
    }
   ],
   "source": [
    "!python -m spacy download en_core_web_sm\n"
   ]
  },
  {
   "cell_type": "code",
   "execution_count": 4,
   "id": "76b56aef-d0b1-4d5f-84f7-872fac0a0966",
   "metadata": {},
   "outputs": [],
   "source": [
    "nlp = spacy.load(\"en_core_web_sm\")"
   ]
  },
  {
   "cell_type": "code",
   "execution_count": 5,
   "id": "3e2f44bc-9949-4fd0-9167-2bdf0fb1060b",
   "metadata": {},
   "outputs": [
    {
     "data": {
      "text/plain": [
       "'\\nONCE upon a time there were four little Rabbits, and their names were— Flopsy, Mopsy, Cotton-tail, and Peter.\\n\\nThey lived with their Mother in a sand-bank, underneath the root of a very big fir tree.\\n\\n\"NOW, my dears,\" said old Mrs. Rabbit one morning, \"you may go into the fields or down the lane, but don\\'t go into Mr. McGregor\\'s garden: your Father had an accident there; he was put in a pie by Mrs. McGregor.\"\\n\\n\"NOW run along, and don\\'t get into mischief. I am going out.\"\\n\\nTHEN old Mrs. Rabbit took a basket and her umbrella, to the baker\\'s. She bought a loaf of brown bread and five currant buns.\\n\\nFLOPSY, Mopsy, and Cottontail, who were good little bunnies, went down the lane to gather blackberries;\\n\\nBUT Peter, who was very naughty, ran straight away to Mr. McGregor\\'s garden and squeezed under the gate!\\n\\nPeter Rabbit Eating Carrots\\nPeter Rabbit Eating Carrots\\nFIRST he ate some lettuces and some French beans; and then he ate some radishes;\\n\\nAND then, feeling rather sick, he went to look for some parsley.\\n\\nBUT round the end of a cucumber frame, whom should he meet but Mr. McGregor!\\n\\nMR. McGREGOR was on his hands and knees planting out young cabbages, but he jumped up and ran after Peter, waving a rake and calling out, \"Stop thief!\"\\n\\nPETER was most dreadfully frightened; he rushed all over the garden, for he had forgotten the way back to the gate.\\n\\nHe lost one of his shoes among the cabbages, and the other shoe amongst the potatoes.\\n\\nAFTER losing them, he ran on four legs and went faster, so that I think he might have got away altogether if he had not unfortunately run into a gooseberry net, and got caught by the large buttons on his jacket. It was a blue jacket with brass buttons, quite new.\\n\\nPeter Rabbit stuck in the gooseberry net\\nStuck in the Gooseberry Net\\nPETER gave himself up for lost, and shed big tears; but his sobs were overheard by some friendly sparrows, who flew to him in great excitement, and implored him to exert himself.\\n\\nMR. McGREGOR came up with a sieve, which he intended to pop upon the top of Peter; but Peter wriggled out just in time, leaving his jacket behind him.\\n\\nAND rushed into the toolshed, and jumped into a can. It would have been a beautiful thing to hide in, if it had not had so much water in it.\\n\\nMR. McGREGOR was quite sure that Peter was somewhere in the toolshed, perhaps hidden underneath a flower-pot. He began to turn them over carefully, looking under each.\\n\\nPresently Peter sneezed— \"Kertyschoo!\" Mr. McGregor was after him in no time,\\n\\nAND tried to put his foot upon Peter, who jumped out of a window, upsetting three plants. The window was too small for Mr. McGregor, and he was tired of running after Peter. He went back to his work.\\n\\nPETER sat down to rest; he was out of breath and trembling with fright, and he had not the least idea which way to go. Also he was very damp with sitting in that can.\\n\\nAfter a time he began to wander about, going lippity— lippity—not very fast, and looking all around.\\n\\nHE found a door in a wall; but it was locked, and there was no room for a fat little rabbit to squeeze underneath.\\n\\nAn old mouse was running in and out over the stone doorstep, carrying peas and beans to her family in the wood. Peter asked her the way to the gate, but she had such a large pea in her mouth that she could not answer. She only shook her head at him. Peter began to cry.\\n\\nPeter watches from the wheelbarrow\\nPeter watches from the wheelbarrow\\nTHEN he tried to find his way straight across the garden, but he became more and more puzzled. Presently, he came to a pond where Mr. McGregor filled his water-cans. A white cat was staring at some gold-fish; she sat very, very still, but now and then the tip of her tail twitched as if it were alive. Peter thought it best to go away without speaking to her; he had heard about cats from his cousin, little Benjamin Bunny.\\n\\nHE went back towards the tool-shed, but suddenly, quite close to him, he heard the noise of a hoe—scr-r-ritch, scratch, scratch, scritch. Peter scuttered underneath the bushes. But presently, as nothing happened, he came out, and climbed upon a wheelbarrow, and peeped over. The first thing he saw was Mr. McGregor hoeing onions. His back was turned towards Peter, and beyond him was the gate!\\n\\nPETER got down very quietly off the wheelbarrow, and started running as fast as he could go, along a straight walk behind some black-currant bushes.\\n\\nMr. McGregor caught sight of him at the corner, but Peter did not care. He slipped underneath the gate, and was safe at last in the wood outside the garden.\\n\\nMR. McGREGOR hung up the little jacket and the shoes for a scare-crow to frighten the blackbirds.\\n\\nPeter\\'s coat & shoes\\nPeter\\'s coat & shoes\\nPETER never stopped running or looked behind him till he got home to the big fir-tree.\\n\\nHe was so tired that he flopped down upon the nice soft sand on the floor of the rabbit-hole, and shut his eyes. His mother was busy cooking; she wondered what he had done with his clothes. It was the second little jacket and pair of shoes that Peter had lost in a fortnight!\\n\\nI AM sorry to say that Peter was not very well during the evening.\\n\\nHis mother put him to bed, and made some camomile tea; and she gave a dose of it to Peter!\\n\\n\"One table-spoonful to be taken at bed-time.\"\\n\\nBUT Flopsy, Mopsy, and Cottontail had bread and milk and blackberries, for supper.\\n'"
      ]
     },
     "execution_count": 5,
     "metadata": {},
     "output_type": "execute_result"
    }
   ],
   "source": [
    "text = \"\"\"\n",
    "ONCE upon a time there were four little Rabbits, and their names were— Flopsy, Mopsy, Cotton-tail, and Peter.\n",
    "\n",
    "They lived with their Mother in a sand-bank, underneath the root of a very big fir tree.\n",
    "\n",
    "\"NOW, my dears,\" said old Mrs. Rabbit one morning, \"you may go into the fields or down the lane, but don't go into Mr. McGregor's garden: your Father had an accident there; he was put in a pie by Mrs. McGregor.\"\n",
    "\n",
    "\"NOW run along, and don't get into mischief. I am going out.\"\n",
    "\n",
    "THEN old Mrs. Rabbit took a basket and her umbrella, to the baker's. She bought a loaf of brown bread and five currant buns.\n",
    "\n",
    "FLOPSY, Mopsy, and Cottontail, who were good little bunnies, went down the lane to gather blackberries;\n",
    "\n",
    "BUT Peter, who was very naughty, ran straight away to Mr. McGregor's garden and squeezed under the gate!\n",
    "\n",
    "Peter Rabbit Eating Carrots\n",
    "Peter Rabbit Eating Carrots\n",
    "FIRST he ate some lettuces and some French beans; and then he ate some radishes;\n",
    "\n",
    "AND then, feeling rather sick, he went to look for some parsley.\n",
    "\n",
    "BUT round the end of a cucumber frame, whom should he meet but Mr. McGregor!\n",
    "\n",
    "MR. McGREGOR was on his hands and knees planting out young cabbages, but he jumped up and ran after Peter, waving a rake and calling out, \"Stop thief!\"\n",
    "\n",
    "PETER was most dreadfully frightened; he rushed all over the garden, for he had forgotten the way back to the gate.\n",
    "\n",
    "He lost one of his shoes among the cabbages, and the other shoe amongst the potatoes.\n",
    "\n",
    "AFTER losing them, he ran on four legs and went faster, so that I think he might have got away altogether if he had not unfortunately run into a gooseberry net, and got caught by the large buttons on his jacket. It was a blue jacket with brass buttons, quite new.\n",
    "\n",
    "Peter Rabbit stuck in the gooseberry net\n",
    "Stuck in the Gooseberry Net\n",
    "PETER gave himself up for lost, and shed big tears; but his sobs were overheard by some friendly sparrows, who flew to him in great excitement, and implored him to exert himself.\n",
    "\n",
    "MR. McGREGOR came up with a sieve, which he intended to pop upon the top of Peter; but Peter wriggled out just in time, leaving his jacket behind him.\n",
    "\n",
    "AND rushed into the toolshed, and jumped into a can. It would have been a beautiful thing to hide in, if it had not had so much water in it.\n",
    "\n",
    "MR. McGREGOR was quite sure that Peter was somewhere in the toolshed, perhaps hidden underneath a flower-pot. He began to turn them over carefully, looking under each.\n",
    "\n",
    "Presently Peter sneezed— \"Kertyschoo!\" Mr. McGregor was after him in no time,\n",
    "\n",
    "AND tried to put his foot upon Peter, who jumped out of a window, upsetting three plants. The window was too small for Mr. McGregor, and he was tired of running after Peter. He went back to his work.\n",
    "\n",
    "PETER sat down to rest; he was out of breath and trembling with fright, and he had not the least idea which way to go. Also he was very damp with sitting in that can.\n",
    "\n",
    "After a time he began to wander about, going lippity— lippity—not very fast, and looking all around.\n",
    "\n",
    "HE found a door in a wall; but it was locked, and there was no room for a fat little rabbit to squeeze underneath.\n",
    "\n",
    "An old mouse was running in and out over the stone doorstep, carrying peas and beans to her family in the wood. Peter asked her the way to the gate, but she had such a large pea in her mouth that she could not answer. She only shook her head at him. Peter began to cry.\n",
    "\n",
    "Peter watches from the wheelbarrow\n",
    "Peter watches from the wheelbarrow\n",
    "THEN he tried to find his way straight across the garden, but he became more and more puzzled. Presently, he came to a pond where Mr. McGregor filled his water-cans. A white cat was staring at some gold-fish; she sat very, very still, but now and then the tip of her tail twitched as if it were alive. Peter thought it best to go away without speaking to her; he had heard about cats from his cousin, little Benjamin Bunny.\n",
    "\n",
    "HE went back towards the tool-shed, but suddenly, quite close to him, he heard the noise of a hoe—scr-r-ritch, scratch, scratch, scritch. Peter scuttered underneath the bushes. But presently, as nothing happened, he came out, and climbed upon a wheelbarrow, and peeped over. The first thing he saw was Mr. McGregor hoeing onions. His back was turned towards Peter, and beyond him was the gate!\n",
    "\n",
    "PETER got down very quietly off the wheelbarrow, and started running as fast as he could go, along a straight walk behind some black-currant bushes.\n",
    "\n",
    "Mr. McGregor caught sight of him at the corner, but Peter did not care. He slipped underneath the gate, and was safe at last in the wood outside the garden.\n",
    "\n",
    "MR. McGREGOR hung up the little jacket and the shoes for a scare-crow to frighten the blackbirds.\n",
    "\n",
    "Peter's coat & shoes\n",
    "Peter's coat & shoes\n",
    "PETER never stopped running or looked behind him till he got home to the big fir-tree.\n",
    "\n",
    "He was so tired that he flopped down upon the nice soft sand on the floor of the rabbit-hole, and shut his eyes. His mother was busy cooking; she wondered what he had done with his clothes. It was the second little jacket and pair of shoes that Peter had lost in a fortnight!\n",
    "\n",
    "I AM sorry to say that Peter was not very well during the evening.\n",
    "\n",
    "His mother put him to bed, and made some camomile tea; and she gave a dose of it to Peter!\n",
    "\n",
    "\"One table-spoonful to be taken at bed-time.\"\n",
    "\n",
    "BUT Flopsy, Mopsy, and Cottontail had bread and milk and blackberries, for supper.\n",
    "\"\"\"\n",
    "text"
   ]
  },
  {
   "cell_type": "code",
   "execution_count": 6,
   "id": "b24283ea-e266-41b7-8048-5e50fbccc3fc",
   "metadata": {},
   "outputs": [],
   "source": [
    "doc = nlp(text)"
   ]
  },
  {
   "cell_type": "code",
   "execution_count": 7,
   "id": "469c4302-8b01-45c7-805f-a4fc6389912d",
   "metadata": {},
   "outputs": [
    {
     "data": {
      "text/plain": [
       "['\\nONCE upon a time there were four little Rabbits, and their names were— Flopsy, Mopsy, Cotton-tail, and Peter.',\n",
       " 'They lived with their Mother in a sand-bank, underneath the root of a very big fir tree.',\n",
       " '\"NOW, my dears,\" said old Mrs. Rabbit one morning, \"you may go into the fields or down the lane, but don\\'t go into Mr. McGregor\\'s garden: your Father had an accident there; he was put in a pie by Mrs.',\n",
       " 'McGregor.\"',\n",
       " '\"NOW run along, and don\\'t get into mischief.',\n",
       " 'I am going out.\"',\n",
       " \"THEN old Mrs. Rabbit took a basket and her umbrella, to the baker's.\",\n",
       " 'She bought a loaf of brown bread and five currant buns.',\n",
       " \"FLOPSY, Mopsy, and Cottontail, who were good little bunnies, went down the lane to gather blackberries;\\n\\nBUT Peter, who was very naughty, ran straight away to Mr. McGregor's garden and squeezed under the gate!\",\n",
       " 'Peter Rabbit Eating Carrots\\nPeter Rabbit Eating Carrots\\nFIRST he ate some lettuces and some French beans; and then he ate some radishes;\\n\\nAND then, feeling rather sick, he went to look for some parsley.',\n",
       " 'BUT round the end of a cucumber frame, whom should he meet but Mr. McGregor!',\n",
       " 'MR. McGREGOR was on his hands and knees planting out young cabbages, but he jumped up and ran after Peter, waving a rake and calling out, \"Stop thief!\"',\n",
       " 'PETER was most dreadfully frightened; he rushed all over the garden, for he had forgotten the way back to the gate.',\n",
       " 'He lost one of his shoes among the cabbages, and the other shoe amongst the potatoes.',\n",
       " 'AFTER losing them, he ran on four legs and went faster, so that I think he might have got away altogether if he had not unfortunately run into a gooseberry net, and got caught by the large buttons on his jacket.',\n",
       " 'It was a blue jacket with brass buttons, quite new.',\n",
       " 'Peter Rabbit stuck in the gooseberry net\\nStuck in the Gooseberry Net\\nPETER gave himself up for lost, and shed big tears; but his sobs were overheard by some friendly sparrows, who flew to him in great excitement, and implored him to exert himself.',\n",
       " 'MR. McGREGOR came up with a sieve, which he intended to pop upon the top of Peter; but Peter wriggled out just in time, leaving his jacket behind him.',\n",
       " 'AND rushed into the toolshed, and jumped into a can.',\n",
       " 'It would have been a beautiful thing to hide in, if it had not had so much water in it.',\n",
       " 'MR. McGREGOR was quite sure that Peter was somewhere in the toolshed, perhaps hidden underneath a flower-pot.',\n",
       " 'He began to turn them over carefully, looking under each.',\n",
       " 'Presently Peter sneezed— \"Kertyschoo!\"',\n",
       " 'Mr. McGregor was after him in no time,\\n\\nAND tried to put his foot upon Peter, who jumped out of a window, upsetting three plants.',\n",
       " 'The window was too small for Mr. McGregor, and he was tired of running after Peter.',\n",
       " 'He went back to his work.',\n",
       " 'PETER sat down to rest; he was out of breath and trembling with fright, and he had not the least idea which way to go.',\n",
       " 'Also he was very damp with sitting in that can.',\n",
       " 'After a time he began to wander about, going lippity— lippity—not very fast, and looking all around.',\n",
       " 'HE found a door in a wall; but it was locked, and there was no room for a fat little rabbit to squeeze underneath.',\n",
       " 'An old mouse was running in and out over the stone doorstep, carrying peas and beans to her family in the wood.',\n",
       " 'Peter asked her the way to the gate, but she had such a large pea in her mouth that she could not answer.',\n",
       " 'She only shook her head at him.',\n",
       " 'Peter began to cry.',\n",
       " 'Peter watches from the wheelbarrow\\nPeter watches from the wheelbarrow\\nTHEN he tried to find his way straight across the garden, but he became more and more puzzled.',\n",
       " 'Presently, he came to a pond where Mr. McGregor filled his water-cans.',\n",
       " 'A white cat was staring at some gold-fish; she sat very, very still, but now and then the tip of her tail twitched as if it were alive.',\n",
       " 'Peter thought it best to go away without speaking to her; he had heard about cats from his cousin, little Benjamin Bunny.',\n",
       " 'HE went back towards the tool-shed, but suddenly, quite close to him, he heard the noise of a hoe—scr-r-ritch, scratch, scratch, scritch.',\n",
       " 'Peter scuttered underneath the bushes.',\n",
       " 'But presently, as nothing happened, he came out, and climbed upon a wheelbarrow, and peeped over.',\n",
       " 'The first thing he saw was Mr. McGregor hoeing onions.',\n",
       " 'His back was turned towards Peter, and beyond him was the gate!',\n",
       " 'PETER got down very quietly off the wheelbarrow, and started running as fast as he could go, along a straight walk behind some black-currant bushes.',\n",
       " 'Mr. McGregor caught sight of him at the corner, but Peter did not care.',\n",
       " 'He slipped underneath the gate, and was safe at last in the wood outside the garden.',\n",
       " 'MR. McGREGOR hung up the little jacket and the shoes for a scare-crow to frighten the blackbirds.',\n",
       " \"Peter's coat & shoes\\nPeter's coat & shoes\\nPETER never stopped running or looked behind him till he got home to the big fir-tree.\",\n",
       " 'He was so tired that he flopped down upon the nice soft sand on the floor of the rabbit-hole, and shut his eyes.',\n",
       " 'His mother was busy cooking; she wondered what he had done with his clothes.',\n",
       " 'It was the second little jacket and pair of shoes that Peter had lost in a fortnight!',\n",
       " 'I AM sorry to say that Peter was not very well during the evening.',\n",
       " 'His mother put him to bed, and made some camomile tea; and she gave a dose of it to Peter!',\n",
       " '\"One table-spoonful to be taken at bed-time.\"',\n",
       " 'BUT Flopsy, Mopsy, and Cottontail had bread and milk and blackberries, for supper.']"
      ]
     },
     "execution_count": 7,
     "metadata": {},
     "output_type": "execute_result"
    }
   ],
   "source": [
    "from nltk.tokenize import word_tokenize, sent_tokenize\n",
    "sent_tokenize(text)"
   ]
  },
  {
   "cell_type": "code",
   "execution_count": 8,
   "id": "9fd432f1-136b-4e16-a63c-ceb06109f7b6",
   "metadata": {},
   "outputs": [],
   "source": [
    "import string\n",
    "\n",
    "def remove_punc(text):\n",
    "    new_sent = []\n",
    "    for sent in sent_tokenize(text):\n",
    "        words = word_tokenize(sent)\n",
    "        new_word=[]\n",
    "        for i in words:\n",
    "            if i not in string.punctuation:\n",
    "               new_word.append(i)\n",
    "        new_word=' '.join(new_word)\n",
    "        new_sent.append(new_word)\n",
    "\n",
    "    return ','.join(new_sent)\n",
    "\n",
    "text=remove_punc(text)"
   ]
  },
  {
   "cell_type": "code",
   "execution_count": 9,
   "id": "243d066c-0daa-4843-bab1-d53c0eea9496",
   "metadata": {},
   "outputs": [
    {
     "data": {
      "text/plain": [
       "\"ONCE upon a time there were four little Rabbits and their names were— Flopsy Mopsy Cotton-tail and Peter,They lived with their Mother in a sand-bank underneath the root of a very big fir tree,`` NOW my dears '' said old Mrs. Rabbit one morning `` you may go into the fields or down the lane but do n't go into Mr. McGregor 's garden your Father had an accident there he was put in a pie by Mrs,McGregor '',`` NOW run along and do n't get into mischief,I am going out '',THEN old Mrs. Rabbit took a basket and her umbrella to the baker 's,She bought a loaf of brown bread and five currant buns,FLOPSY Mopsy and Cottontail who were good little bunnies went down the lane to gather blackberries BUT Peter who was very naughty ran straight away to Mr. McGregor 's garden and squeezed under the gate,Peter Rabbit Eating Carrots Peter Rabbit Eating Carrots FIRST he ate some lettuces and some French beans and then he ate some radishes AND then feeling rather sick he went to look for some parsley,BUT round the end of a cucumber frame whom should he meet but Mr. McGregor,MR. McGREGOR was on his hands and knees planting out young cabbages but he jumped up and ran after Peter waving a rake and calling out `` Stop thief '',PETER was most dreadfully frightened he rushed all over the garden for he had forgotten the way back to the gate,He lost one of his shoes among the cabbages and the other shoe amongst the potatoes,AFTER losing them he ran on four legs and went faster so that I think he might have got away altogether if he had not unfortunately run into a gooseberry net and got caught by the large buttons on his jacket,It was a blue jacket with brass buttons quite new,Peter Rabbit stuck in the gooseberry net Stuck in the Gooseberry Net PETER gave himself up for lost and shed big tears but his sobs were overheard by some friendly sparrows who flew to him in great excitement and implored him to exert himself,MR. McGREGOR came up with a sieve which he intended to pop upon the top of Peter but Peter wriggled out just in time leaving his jacket behind him,AND rushed into the toolshed and jumped into a can,It would have been a beautiful thing to hide in if it had not had so much water in it,MR. McGREGOR was quite sure that Peter was somewhere in the toolshed perhaps hidden underneath a flower-pot,He began to turn them over carefully looking under each,Presently Peter sneezed— `` Kertyschoo '',Mr. McGregor was after him in no time AND tried to put his foot upon Peter who jumped out of a window upsetting three plants,The window was too small for Mr. McGregor and he was tired of running after Peter,He went back to his work,PETER sat down to rest he was out of breath and trembling with fright and he had not the least idea which way to go,Also he was very damp with sitting in that can,After a time he began to wander about going lippity— lippity—not very fast and looking all around,HE found a door in a wall but it was locked and there was no room for a fat little rabbit to squeeze underneath,An old mouse was running in and out over the stone doorstep carrying peas and beans to her family in the wood,Peter asked her the way to the gate but she had such a large pea in her mouth that she could not answer,She only shook her head at him,Peter began to cry,Peter watches from the wheelbarrow Peter watches from the wheelbarrow THEN he tried to find his way straight across the garden but he became more and more puzzled,Presently he came to a pond where Mr. McGregor filled his water-cans,A white cat was staring at some gold-fish she sat very very still but now and then the tip of her tail twitched as if it were alive,Peter thought it best to go away without speaking to her he had heard about cats from his cousin little Benjamin Bunny,HE went back towards the tool-shed but suddenly quite close to him he heard the noise of a hoe—scr-r-ritch scratch scratch scritch,Peter scuttered underneath the bushes,But presently as nothing happened he came out and climbed upon a wheelbarrow and peeped over,The first thing he saw was Mr. McGregor hoeing onions,His back was turned towards Peter and beyond him was the gate,PETER got down very quietly off the wheelbarrow and started running as fast as he could go along a straight walk behind some black-currant bushes,Mr. McGregor caught sight of him at the corner but Peter did not care,He slipped underneath the gate and was safe at last in the wood outside the garden,MR. McGREGOR hung up the little jacket and the shoes for a scare-crow to frighten the blackbirds,Peter 's coat shoes Peter 's coat shoes PETER never stopped running or looked behind him till he got home to the big fir-tree,He was so tired that he flopped down upon the nice soft sand on the floor of the rabbit-hole and shut his eyes,His mother was busy cooking she wondered what he had done with his clothes,It was the second little jacket and pair of shoes that Peter had lost in a fortnight,I AM sorry to say that Peter was not very well during the evening,His mother put him to bed and made some camomile tea and she gave a dose of it to Peter,`` One table-spoonful to be taken at bed-time '',BUT Flopsy Mopsy and Cottontail had bread and milk and blackberries for supper\""
      ]
     },
     "execution_count": 9,
     "metadata": {},
     "output_type": "execute_result"
    }
   ],
   "source": [
    "text"
   ]
  },
  {
   "cell_type": "code",
   "execution_count": 10,
   "id": "feab3e57-4af2-453e-a2b2-23f3fe3d4d6d",
   "metadata": {},
   "outputs": [
    {
     "data": {
      "text/plain": [
       "\"ONCE upon a time there were four little Rabbits and their names were— Flopsy Mopsy Cotton-tail and Peter , They lived with their Mother in a sand-bank underneath the root of a very big fir tree , `` NOW my dears `` said old Mrs. Rabbit one morning `` you may go into the fields or down the lane but do n't go into Mr. McGregor 's garden your Father had an accident there he was put in a pie by Mrs , McGregor `` , `` NOW run along and do n't get into mischief , I am going out `` , THEN old Mrs. Rabbit took a basket and her umbrella to the baker 's , She bought a loaf of brown bread and five currant buns , FLOPSY Mopsy and Cottontail who were good little bunnies went down the lane to gather blackberries BUT Peter who was very naughty ran straight away to Mr. McGregor 's garden and squeezed under the gate , Peter Rabbit Eating Carrots Peter Rabbit Eating Carrots FIRST he ate some lettuces and some French beans and then he ate some radishes AND then feeling rather sick he went to look for some parsley , BUT round the end of a cucumber frame whom should he meet but Mr. McGregor , MR .,McGREGOR was on his hands and knees planting out young cabbages but he jumped up and ran after Peter waving a rake and calling out `` Stop thief `` , PETER was most dreadfully frightened he rushed all over the garden for he had forgotten the way back to the gate , He lost one of his shoes among the cabbages and the other shoe amongst the potatoes , AFTER losing them he ran on four legs and went faster so that I think he might have got away altogether if he had not unfortunately run into a gooseberry net and got caught by the large buttons on his jacket , It was a blue jacket with brass buttons quite new , Peter Rabbit stuck in the gooseberry net Stuck in the Gooseberry Net PETER gave himself up for lost and shed big tears but his sobs were overheard by some friendly sparrows who flew to him in great excitement and implored him to exert himself , MR .,McGREGOR came up with a sieve which he intended to pop upon the top of Peter but Peter wriggled out just in time leaving his jacket behind him , AND rushed into the toolshed and jumped into a can , It would have been a beautiful thing to hide in if it had not had so much water in it , MR .,McGREGOR was quite sure that Peter was somewhere in the toolshed perhaps hidden underneath a flower-pot , He began to turn them over carefully looking under each , Presently Peter sneezed— `` Kertyschoo `` , Mr .,McGregor was after him in no time AND tried to put his foot upon Peter who jumped out of a window upsetting three plants , The window was too small for Mr. McGregor and he was tired of running after Peter , He went back to his work , PETER sat down to rest he was out of breath and trembling with fright and he had not the least idea which way to go , Also he was very damp with sitting in that can , After a time he began to wander about going lippity— lippity—not very fast and looking all around , HE found a door in a wall but it was locked and there was no room for a fat little rabbit to squeeze underneath , An old mouse was running in and out over the stone doorstep carrying peas and beans to her family in the wood , Peter asked her the way to the gate but she had such a large pea in her mouth that she could not answer , She only shook her head at him , Peter began to cry , Peter watches from the wheelbarrow Peter watches from the wheelbarrow THEN he tried to find his way straight across the garden but he became more and more puzzled , Presently he came to a pond where Mr. McGregor filled his water-cans , A white cat was staring at some gold-fish she sat very very still but now and then the tip of her tail twitched as if it were alive , Peter thought it best to go away without speaking to her he had heard about cats from his cousin little Benjamin Bunny , HE went back towards the tool-shed but suddenly quite close to him he heard the noise of a hoe—scr-r-ritch scratch scratch scritch , Peter scuttered underneath the bushes , But presently as nothing happened he came out and climbed upon a wheelbarrow and peeped over , The first thing he saw was Mr. McGregor hoeing onions , His back was turned towards Peter and beyond him was the gate , PETER got down very quietly off the wheelbarrow and started running as fast as he could go along a straight walk behind some black-currant bushes , Mr .,McGregor caught sight of him at the corner but Peter did not care , He slipped underneath the gate and was safe at last in the wood outside the garden , MR .,McGREGOR hung up the little jacket and the shoes for a scare-crow to frighten the blackbirds , Peter 's coat shoes Peter 's coat shoes PETER never stopped running or looked behind him till he got home to the big fir-tree , He was so tired that he flopped down upon the nice soft sand on the floor of the rabbit-hole and shut his eyes , His mother was busy cooking she wondered what he had done with his clothes , It was the second little jacket and pair of shoes that Peter had lost in a fortnight , I AM sorry to say that Peter was not very well during the evening , His mother put him to bed and made some camomile tea and she gave a dose of it to Peter , `` One table-spoonful to be taken at bed-time `` , BUT Flopsy Mopsy and Cottontail had bread and milk and blackberries for supper\""
      ]
     },
     "execution_count": 10,
     "metadata": {},
     "output_type": "execute_result"
    }
   ],
   "source": [
    "br_tags=['<br>','']\n",
    "\n",
    "def remove_tags(text):\n",
    "    new_sent = []\n",
    "    for sent in sent_tokenize(text):\n",
    "        words = word_tokenize(sent)\n",
    "        new_word=[]\n",
    "        for i in words:\n",
    "            if i not in br_tags:\n",
    "               new_word.append(i)\n",
    "        new_word=' '.join(new_word)\n",
    "        new_sent.append(new_word)\n",
    "\n",
    "    return ','.join(new_sent)\n",
    "\n",
    "text=remove_tags(text)\n",
    "text"
   ]
  },
  {
   "cell_type": "code",
   "execution_count": 11,
   "id": "a77fcc6f-8334-4366-8ea0-210953a6ce9e",
   "metadata": {},
   "outputs": [
    {
     "name": "stderr",
     "output_type": "stream",
     "text": [
      "[nltk_data] Downloading package stopwords to\n",
      "[nltk_data]     C:\\Users\\DELL\\AppData\\Roaming\\nltk_data...\n",
      "[nltk_data]   Package stopwords is already up-to-date!\n",
      "[nltk_data] Downloading package punkt to\n",
      "[nltk_data]     C:\\Users\\DELL\\AppData\\Roaming\\nltk_data...\n",
      "[nltk_data]   Package punkt is already up-to-date!\n"
     ]
    },
    {
     "data": {
      "text/plain": [
       "True"
      ]
     },
     "execution_count": 11,
     "metadata": {},
     "output_type": "execute_result"
    }
   ],
   "source": [
    "import nltk\n",
    "from nltk.corpus import stopwords\n",
    "nltk.download('stopwords')\n",
    "nltk.download('punkt')"
   ]
  },
  {
   "cell_type": "code",
   "execution_count": 12,
   "id": "66d5ea34-a53c-4ad3-aadf-5ed872f555fc",
   "metadata": {},
   "outputs": [
    {
     "data": {
      "text/plain": [
       "\"upon time four little Rabbits names were— Flopsy Mopsy Cotton-tail Peter , lived Mother sand-bank underneath root big fir tree , `` dears `` said old Mrs. Rabbit one morning `` may go fields lane n't go Mr. McGregor 's garden Father accident put pie Mrs , McGregor `` , `` run along n't get mischief , going `` , old Mrs. Rabbit took basket umbrella baker 's , bought loaf brown bread five currant buns , FLOPSY Mopsy Cottontail good little bunnies went lane gather blackberries Peter naughty ran straight away Mr. McGregor 's garden squeezed gate , Peter Rabbit Eating Carrots Peter Rabbit Eating Carrots FIRST ate lettuces French beans ate radishes feeling rather sick went look parsley , round end cucumber frame meet Mr. McGregor , MR . , McGREGOR hands knees planting young cabbages jumped ran Peter waving rake calling `` Stop thief `` , PETER dreadfully frightened rushed garden forgotten way back gate , lost one shoes among cabbages shoe amongst potatoes , losing ran four legs went faster think might got away altogether unfortunately run gooseberry net got caught large buttons jacket , blue jacket brass buttons quite new , Peter Rabbit stuck gooseberry net Stuck Gooseberry Net PETER gave lost shed big tears sobs overheard friendly sparrows flew great excitement implored exert , MR . , McGREGOR came sieve intended pop upon top Peter Peter wriggled time leaving jacket behind , rushed toolshed jumped , would beautiful thing hide much water , MR . , McGREGOR quite sure Peter somewhere toolshed perhaps hidden underneath flower-pot , began turn carefully looking , Presently Peter sneezed— `` Kertyschoo `` , Mr . , McGregor time tried put foot upon Peter jumped window upsetting three plants , window small Mr. McGregor tired running Peter , went back work , PETER sat rest breath trembling fright least idea way go , Also damp sitting , time began wander going lippity— lippity—not fast looking around , found door wall locked room fat little rabbit squeeze underneath , old mouse running stone doorstep carrying peas beans family wood , Peter asked way gate large pea mouth could answer , shook head , Peter began cry , Peter watches wheelbarrow Peter watches wheelbarrow tried find way straight across garden became puzzled , Presently came pond Mr. McGregor filled water-cans , white cat staring gold-fish sat still tip tail twitched alive , Peter thought best go away without speaking heard cats cousin little Benjamin Bunny , went back towards tool-shed suddenly quite close heard noise hoe—scr-r-ritch scratch scratch scritch , Peter scuttered underneath bushes , presently nothing happened came climbed upon wheelbarrow peeped , first thing saw Mr. McGregor hoeing onions , back turned towards Peter beyond gate , PETER got quietly wheelbarrow started running fast could go along straight walk behind black-currant bushes , Mr . , McGregor caught sight corner Peter care , slipped underneath gate safe last wood outside garden , MR . , McGREGOR hung little jacket shoes scare-crow frighten blackbirds , Peter 's coat shoes Peter 's coat shoes PETER never stopped running looked behind till got home big fir-tree , tired flopped upon nice soft sand floor rabbit-hole shut eyes , mother busy cooking wondered done clothes , second little jacket pair shoes Peter lost fortnight , sorry say Peter well evening , mother put bed made camomile tea gave dose Peter , `` One table-spoonful taken bed-time `` , Flopsy Mopsy Cottontail bread milk blackberries supper\""
      ]
     },
     "execution_count": 12,
     "metadata": {},
     "output_type": "execute_result"
    }
   ],
   "source": [
    "stop_words = set(stopwords.words('english'))\n",
    "\n",
    "def remove_stpwrds(text):\n",
    "    new_sent = []\n",
    "    for sent in sent_tokenize(text):\n",
    "        words = word_tokenize(sent)\n",
    "        new_word=[]\n",
    "        for i in words:\n",
    "            if i.lower() not in stop_words:\n",
    "               new_word.append(i)\n",
    "        new_word=' '.join(new_word)\n",
    "        new_sent.append(new_word)\n",
    "\n",
    "    return ','.join(new_sent)\n",
    "\n",
    "text=remove_stpwrds(text)\n",
    "text"
   ]
  },
  {
   "cell_type": "code",
   "execution_count": 13,
   "id": "e75ed7d2-9c75-463e-81ae-754acacda258",
   "metadata": {},
   "outputs": [],
   "source": [
    "keywords = []\n",
    "tags = ['PROPN', 'ADJ', 'NOUN', 'VERB']\n",
    "for token in doc:\n",
    "    if token.pos_ in tags:\n",
    "        keywords.append(token.text)\n",
    "\n"
   ]
  },
  {
   "cell_type": "code",
   "execution_count": 14,
   "id": "b1ed2ac1-ef72-4855-bafb-4fb77c7b991a",
   "metadata": {},
   "outputs": [
    {
     "data": {
      "text/plain": [
       "[('Peter', 25), ('McGregor', 9), ('Mr.', 8), ('little', 6), ('time', 5)]"
      ]
     },
     "execution_count": 14,
     "metadata": {},
     "output_type": "execute_result"
    }
   ],
   "source": [
    "from collections import Counter\n",
    "freq= Counter(keywords)\n",
    "freq.most_common(5)\n"
   ]
  },
  {
   "cell_type": "code",
   "execution_count": 15,
   "id": "10650b64-f312-41bc-88b2-1715af9473ad",
   "metadata": {},
   "outputs": [
    {
     "data": {
      "text/plain": [
       "[('Peter', 1.0),\n",
       " ('McGregor', 0.36),\n",
       " ('Mr.', 0.32),\n",
       " ('little', 0.24),\n",
       " ('time', 0.2)]"
      ]
     },
     "execution_count": 15,
     "metadata": {},
     "output_type": "execute_result"
    }
   ],
   "source": [
    "max_freq = freq.most_common(1)[0][1]\n",
    "\n",
    "for i in freq.keys():\n",
    "    freq[i]=(freq[i]/max_freq)\n",
    "freq.most_common(5)"
   ]
  },
  {
   "cell_type": "code",
   "execution_count": 16,
   "id": "4d361655-b705-4010-b4ab-6e8b62a05e30",
   "metadata": {},
   "outputs": [
    {
     "name": "stdout",
     "output_type": "stream",
     "text": [
      "{\n",
      "ONCE upon a time there were four little Rabbits, and their names were— Flopsy, Mopsy, Cotton-tail, and Peter.\n",
      "\n",
      ": 1.92, They lived with their Mother in a sand-bank, underneath the root of a very big fir tree.\n",
      "\n",
      ": 0.52, \"NOW, my dears,\" said old Mrs. Rabbit one morning, \"you may go into the fields or down the lane, but don't go into Mr. McGregor's garden: your Father had an accident there; he was put in a pie by Mrs. McGregor.: 2.960000000000001, \"\n",
      "\n",
      "\"NOW run along, and don't get into mischief.: 0.2, I am going out.: 0.08, \"\n",
      "\n",
      "THEN old Mrs. Rabbit took a basket and her umbrella, to the baker's.: 0.6000000000000001, She bought a loaf of brown bread and five currant buns.\n",
      "\n",
      ": 0.32, FLOPSY, Mopsy, and Cottontail, who were good little bunnies, went down the lane to gather blackberries;\n",
      "\n",
      "BUT Peter, who was very naughty, ran straight away to Mr. McGregor's garden and squeezed under the gate!\n",
      "\n",
      "Peter Rabbit Eating Carrots\n",
      "Peter Rabbit Eating Carrots\n",
      ": 6.040000000000001, FIRST he ate some lettuces and some French beans; and then he ate some radishes;\n",
      "\n",
      "AND then, feeling rather sick, he went to look for some parsley.\n",
      "\n",
      ": 0.72, BUT round the end of a cucumber frame, whom should he meet but Mr. McGregor!\n",
      "\n",
      "MR.: 1.04, McGREGOR was on his hands and knees planting out young cabbages, but he jumped up and ran after Peter, waving a rake and calling out, \"Stop thief!: 1.8800000000000003, \"\n",
      "\n",
      "PETER was most dreadfully frightened; he rushed all over the garden, for he had forgotten the way back to the gate.\n",
      "\n",
      ": 1.2, He lost one of his shoes among the cabbages, and the other shoe amongst the potatoes.\n",
      "\n",
      ": 0.52, AFTER losing them, he ran on four legs and went faster, so that I think he might have got away altogether if he had not unfortunately run into a gooseberry net, and got caught by the large buttons on his jacket.: 1.56, It was a blue jacket with brass buttons, quite new.\n",
      "\n",
      ": 0.44, Peter Rabbit stuck in the gooseberry net\n",
      "Stuck in the Gooseberry Net\n",
      "PETER gave himself up for lost, and shed big tears; but his sobs were overheard by some friendly sparrows, who flew to him in great excitement, and implored him to exert himself.\n",
      "\n",
      ": 2.560000000000001, MR.: 0.16, McGREGOR came up with a sieve, which he intended to pop upon the top of Peter; but Peter wriggled out just in time, leaving his jacket behind him.\n",
      "\n",
      "AND rushed into the toolshed, and jumped into a can.: 3.2400000000000007, It would have been a beautiful thing to hide in, if it had not had so much water in it.\n",
      "\n",
      ": 0.68, MR.: 0.16, McGREGOR was quite sure that Peter was somewhere in the toolshed, perhaps hidden underneath a flower-pot.: 1.4800000000000002, He began to turn them over carefully, looking under each.\n",
      "\n",
      ": 0.24, Presently Peter sneezed— \"Kertyschoo!\": 1.08, Mr. McGregor was after him in no time,\n",
      "\n",
      "AND tried to put his foot upon Peter, who jumped out of a window, upsetting three plants.: 2.4400000000000004, The window was too small for Mr. McGregor, and he was tired of running after Peter.: 2.12, He went back to his work.\n",
      "\n",
      ": 0.28, PETER sat down to rest; he was out of breath and trembling with fright, and he had not the least idea which way to go.: 1.12, Also he was very damp with sitting in that can.\n",
      "\n",
      ": 0.16, After a time he began to wander about, going lippity— lippity—not very fast, and looking all around.\n",
      "\n",
      ": 0.72, HE found a door in a wall; but it was locked, and there was no room for a fat little rabbit to squeeze underneath.\n",
      "\n",
      ": 0.68, An old mouse was running in and out over the stone doorstep, carrying peas and beans to her family in the wood.: 0.7199999999999999, Peter asked her the way to the gate, but she had such a large pea in her mouth that she could not answer.: 1.8, She only shook her head at him.: 0.08, Peter began to cry.\n",
      "\n",
      ": 1.1600000000000001, Peter watches from the wheelbarrow\n",
      "Peter watches from the wheelbarrow\n",
      "THEN he tried to find his way straight across the garden, but he became more and more puzzled.: 3.080000000000001, Presently, he came to a pond where Mr. McGregor filled his water-cans.: 1.0, A white cat was staring at some gold-fish; she sat very, very still, but now and then the tip of her tail twitched as if it were alive.: 0.56, Peter thought it best to go away without speaking to her; he had heard about cats from his cousin, little Benjamin Bunny.\n",
      "\n",
      ": 2.0, HE went back towards the tool-shed, but suddenly, quite close to him, he heard the noise of a hoe—scr-r-ritch, scratch, scratch, scritch.: 0.8800000000000001, Peter scuttered underneath the bushes.: 1.12, But presently, as nothing happened, he came out, and climbed upon a wheelbarrow, and peeped over.: 0.39999999999999997, The first thing he saw was Mr. McGregor hoeing onions.: 0.9600000000000001, His back was turned towards Peter, and beyond him was the gate!\n",
      "\n",
      ": 1.36, PETER got down very quietly off the wheelbarrow, and started running as fast as he could go, along a straight walk behind some black-currant bushes.\n",
      "\n",
      ": 1.2000000000000004, Mr. McGregor caught sight of him at the corner, but Peter did not care.: 1.88, He slipped underneath the gate, and was safe at last in the wood outside the garden.\n",
      "\n",
      ": 0.64, MR.: 0.16, McGREGOR hung up the little jacket and the shoes for a scare-crow to frighten the blackbirds.\n",
      "\n",
      ": 1.0000000000000002, Peter's coat & shoes\n",
      "Peter's coat & shoes\n",
      "PETER never stopped running or looked behind him till he got home to the big fir-tree.\n",
      "\n",
      ": 3.4000000000000012, He was so tired that he flopped down upon the nice soft sand on the floor of the rabbit-hole, and shut his eyes.: 0.56, His mother was busy cooking; she wondered what he had done with his clothes.: 0.52, It was the second little jacket and pair of shoes that Peter had lost in a fortnight!\n",
      "\n",
      ": 2.12, I AM sorry to say that Peter was not very well during the evening.\n",
      "\n",
      ": 1.1600000000000001, His mother put him to bed, and made some camomile tea; and she gave a dose of it to Peter!\n",
      "\n",
      ": 1.52, \"One table-spoonful to be taken at bed-time.: 0.4, \"\n",
      "\n",
      "BUT Flopsy, Mopsy, and Cottontail had bread and milk and blackberries, for supper.\n",
      ": 0.7200000000000001}\n"
     ]
    }
   ],
   "source": [
    "sent_strength={}\n",
    "for sent in doc.sents:\n",
    "    for word in sent:\n",
    "        if word.text in freq.keys():\n",
    "            if sent in sent_strength.keys():\n",
    "                sent_strength[sent]+=freq[word.text]\n",
    "            else:\n",
    "                sent_strength[sent]=freq[word.text]\n",
    "print(sent_strength)"
   ]
  },
  {
   "cell_type": "code",
   "execution_count": 17,
   "id": "f4450a01-979c-4ad2-841e-f78d3a849d8a",
   "metadata": {},
   "outputs": [
    {
     "name": "stdout",
     "output_type": "stream",
     "text": [
      "[FLOPSY, Mopsy, and Cottontail, who were good little bunnies, went down the lane to gather blackberries;\n",
      "\n",
      "BUT Peter, who was very naughty, ran straight away to Mr. McGregor's garden and squeezed under the gate!\n",
      "\n",
      "Peter Rabbit Eating Carrots\n",
      "Peter Rabbit Eating Carrots\n",
      ", Peter's coat & shoes\n",
      "Peter's coat & shoes\n",
      "PETER never stopped running or looked behind him till he got home to the big fir-tree.\n",
      "\n",
      ", McGREGOR came up with a sieve, which he intended to pop upon the top of Peter; but Peter wriggled out just in time, leaving his jacket behind him.\n",
      "\n",
      "AND rushed into the toolshed, and jumped into a can.]\n"
     ]
    }
   ],
   "source": [
    "from heapq import nlargest\n",
    "summarized_sentences = nlargest(3, sent_strength, key=sent_strength.get)\n",
    "print(summarized_sentences)"
   ]
  },
  {
   "cell_type": "code",
   "execution_count": null,
   "id": "e022779c-97be-4665-b858-1e658582216d",
   "metadata": {},
   "outputs": [],
   "source": []
  },
  {
   "cell_type": "code",
   "execution_count": null,
   "id": "4008ff37-c982-466e-9305-c754128d83f5",
   "metadata": {},
   "outputs": [],
   "source": []
  }
 ],
 "metadata": {
  "kernelspec": {
   "display_name": "Python 3 (ipykernel)",
   "language": "python",
   "name": "python3"
  },
  "language_info": {
   "codemirror_mode": {
    "name": "ipython",
    "version": 3
   },
   "file_extension": ".py",
   "mimetype": "text/x-python",
   "name": "python",
   "nbconvert_exporter": "python",
   "pygments_lexer": "ipython3",
   "version": "3.11.7"
  }
 },
 "nbformat": 4,
 "nbformat_minor": 5
}
